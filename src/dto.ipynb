{
 "cells": [
  {
   "cell_type": "code",
   "execution_count": 45,
   "metadata": {
    "pycharm": {
     "name": "#%%\n"
    }
   },
   "outputs": [],
   "source": [
    "from sqlalchemy import select, func, and_, or_, Integer\n",
    "from sqlalchemy.orm import selectinload\n",
    "\n",
    "from models import WorkersOrm, ResumesOrm, Workload\n",
    "from schemas import ResumesDTO, ResumesRelDTO, WorkersDTO, WorkersRelDTO\n",
    "from database import session_factory, sync_engine\n",
    "\n",
    "from pydantic import BaseModel"
   ]
  },
  {
   "cell_type": "markdown",
   "metadata": {
    "pycharm": {
     "name": "#%% md\n"
    }
   },
   "source": [
    "#### Без relationship"
   ]
  },
  {
   "cell_type": "code",
   "execution_count": 48,
   "metadata": {
    "pycharm": {
     "name": "#%%\n"
    }
   },
   "outputs": [
    {
     "name": "stdout",
     "output_type": "stream",
     "text": [
      "result_orm=[<WorkersOrm id=1, username=Jack>, <WorkersOrm id=2, username=Michael>]\n",
      "result_dto=[WorkersDTO(username='Jack', id=1), WorkersDTO(username='Michael', id=2)]\n"
     ]
    }
   ],
   "source": [
    "with session_factory() as session:\n",
    "    query = (\n",
    "        select(WorkersOrm)\n",
    "        .limit(2)\n",
    "    )\n",
    "\n",
    "    res = session.execute(query)\n",
    "    result_orm = res.scalars().all()\n",
    "    print(f\"{result_orm=}\")\n",
    "    result_dto = [WorkersDTO.model_validate(row, from_attributes=True) for row in result_orm]\n",
    "    print(f\"{result_dto=}\")"
   ]
  },
  {
   "cell_type": "markdown",
   "metadata": {
    "pycharm": {
     "name": "#%% md\n"
    }
   },
   "source": [
    "#### C relationship"
   ]
  },
  {
   "cell_type": "code",
   "execution_count": 49,
   "metadata": {
    "pycharm": {
     "name": "#%%\n"
    }
   },
   "outputs": [
    {
     "name": "stdout",
     "output_type": "stream",
     "text": [
      "result_orm=[<WorkersOrm id=1, username=Jack>, <WorkersOrm id=2, username=Michael>]\n",
      "result_dto=[WorkersRelDTO(username='Jack', id=1, resumes=[ResumesDTO(title='Python Junior Developer', compensation=50000, workload=<Workload.fulltime: 'fulltime'>, worker_id=1, id=1, created_at=datetime.datetime(2023, 10, 29, 10, 41, 12, 770381), updated_at=datetime.datetime(2023, 10, 29, 10, 41, 12, 770381)), ResumesDTO(title='Python Разработчик', compensation=150000, workload=<Workload.fulltime: 'fulltime'>, worker_id=1, id=2, created_at=datetime.datetime(2023, 10, 29, 10, 41, 12, 770381), updated_at=datetime.datetime(2023, 10, 29, 10, 41, 12, 770381))]), WorkersRelDTO(username='Michael', id=2, resumes=[ResumesDTO(title='Python Data Engineer', compensation=250000, workload=<Workload.parttime: 'parttime'>, worker_id=2, id=3, created_at=datetime.datetime(2023, 10, 29, 10, 41, 12, 770381), updated_at=datetime.datetime(2023, 10, 29, 10, 41, 12, 770381)), ResumesDTO(title='Data Scientist', compensation=300000, workload=<Workload.fulltime: 'fulltime'>, worker_id=2, id=4, created_at=datetime.datetime(2023, 10, 29, 10, 41, 12, 770381), updated_at=datetime.datetime(2023, 10, 29, 10, 41, 12, 770381))])]\n"
     ]
    }
   ],
   "source": [
    "with session_factory() as session:\n",
    "    query = (\n",
    "        select(WorkersOrm)\n",
    "        .options(selectinload(WorkersOrm.resumes))\n",
    "        .limit(2)\n",
    "    )\n",
    "\n",
    "    res = session.execute(query)\n",
    "    result_orm = res.scalars().all()\n",
    "    print(f\"{result_orm=}\")\n",
    "    result_dto = [WorkersRelDTO.model_validate(row, from_attributes=True) for row in result_orm]\n",
    "    print(f\"{result_dto=}\")"
   ]
  },
  {
   "cell_type": "markdown",
   "metadata": {
    "pycharm": {
     "name": "#%% md\n"
    }
   },
   "source": [
    "#### JOIN"
   ]
  },
  {
   "cell_type": "code",
   "execution_count": 52,
   "metadata": {
    "pycharm": {
     "name": "#%%\n"
    }
   },
   "outputs": [],
   "source": [
    "class WorkloadAvgCompensationDTO(BaseModel):\n",
    "    workload: Workload\n",
    "    avg_compensation: int"
   ]
  },
  {
   "cell_type": "code",
   "execution_count": 53,
   "metadata": {
    "pycharm": {
     "name": "#%%\n"
    }
   },
   "outputs": [
    {
     "name": "stdout",
     "output_type": "stream",
     "text": [
      "result_orm=[(<Workload.parttime: 'parttime'>, 165000), (<Workload.fulltime: 'fulltime'>, 90000)]\n",
      "result_dto=[WorkloadAvgCompensationDTO(workload=<Workload.parttime: 'parttime'>, avg_compensation=165000), WorkloadAvgCompensationDTO(workload=<Workload.fulltime: 'fulltime'>, avg_compensation=90000)]\n"
     ]
    }
   ],
   "source": [
    "with session_factory() as session:\n",
    "    query = (\n",
    "        select(\n",
    "            ResumesOrm.workload,\n",
    "            func.avg(ResumesOrm.compensation).cast(Integer).label(\"avg_compensation\"),\n",
    "        )\n",
    "        .select_from(ResumesOrm)\n",
    "        .filter(and_(\n",
    "            ResumesOrm.title.contains(\"Python\"),\n",
    "            ResumesOrm.compensation > 40000,\n",
    "        ))\n",
    "        .group_by(ResumesOrm.workload)\n",
    "        .having(func.avg(ResumesOrm.compensation) > 70000)\n",
    "    )\n",
    "    res = session.execute(query)\n",
    "    result_orm = res.all()\n",
    "    print(f\"{result_orm=}\")\n",
    "    result_dto = [WorkloadAvgCompensationDTO.model_validate(row, from_attributes=True) for row in result_orm]\n",
    "    print(f\"{result_dto=}\")"
   ]
  }
 ],
 "metadata": {
  "kernelspec": {
   "display_name": "venv",
   "language": "python",
   "name": "python3"
  },
  "language_info": {
   "codemirror_mode": {
    "name": "ipython",
    "version": 3
   },
   "file_extension": ".py",
   "mimetype": "text/x-python",
   "name": "python",
   "nbconvert_exporter": "python",
   "pygments_lexer": "ipython3",
   "version": "3.10.10"
  }
 },
 "nbformat": 4,
 "nbformat_minor": 2
}